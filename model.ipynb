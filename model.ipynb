{
 "cells": [
  {
   "cell_type": "code",
   "execution_count": 1,
   "id": "7e018b69",
   "metadata": {},
   "outputs": [],
   "source": [
    "#Import the libraries\n",
    "import pandas as pd\n",
    "import numpy as np"
   ]
  },
  {
   "cell_type": "code",
   "execution_count": 2,
   "id": "3ecf0545",
   "metadata": {},
   "outputs": [],
   "source": [
    "#get the data\n",
    "data=pd.read_csv('winequality-red.csv')"
   ]
  },
  {
   "cell_type": "code",
   "execution_count": 3,
   "id": "e42e7fee",
   "metadata": {},
   "outputs": [],
   "source": [
    "#lebel the values in the quality variables\n",
    "bins=(2,6.5,8)\n",
    "label=['Bad','Good']\n",
    "data['quality']=pd.cut(data['quality'],bins=bins,labels=label)"
   ]
  },
  {
   "cell_type": "code",
   "execution_count": 4,
   "id": "7523e85a",
   "metadata": {},
   "outputs": [],
   "source": [
    "#Encode the values in quality in to 0,1\n",
    "from sklearn.preprocessing import LabelEncoder\n",
    "lc=LabelEncoder()\n",
    "data['quality']=lc.fit_transform(data['quality'])"
   ]
  },
  {
   "cell_type": "code",
   "execution_count": 5,
   "id": "cdf33ff7",
   "metadata": {},
   "outputs": [],
   "source": [
    "#rename the columns for better understanding\n",
    "data.rename(columns={'fixed acidity':'fixed_acidity','volatile acidity':'volatile_acidity',\n",
    "                     'citric acid':'citric_acid','residual sugar':'residual_sugar',\n",
    "                     'free sulphur dioxide':'free_sulphur_dioxide','total sulphur dioxide':'total_sulphur_dioxide'\n",
    "                     },inplace=True)"
   ]
  },
  {
   "cell_type": "code",
   "execution_count": 6,
   "id": "2f49daa1",
   "metadata": {},
   "outputs": [],
   "source": [
    "#split the data in to 'x' and 'y'\n",
    "x=data.iloc[:,:-1]\n",
    "y=data['quality']\n"
   ]
  },
  {
   "cell_type": "code",
   "execution_count": 7,
   "id": "f385e680",
   "metadata": {},
   "outputs": [],
   "source": [
    "#split the data in to train and test split\n",
    "from sklearn.model_selection import train_test_split\n",
    "x_train,x_test,y_train,y_test=train_test_split(x,y,test_size=0.15,random_state=0)"
   ]
  },
  {
   "cell_type": "code",
   "execution_count": 8,
   "id": "f5963dcd",
   "metadata": {},
   "outputs": [
    {
     "data": {
      "text/plain": [
       "RandomForestClassifier(max_depth=10, random_state=0)"
      ]
     },
     "execution_count": 8,
     "metadata": {},
     "output_type": "execute_result"
    }
   ],
   "source": [
    "#Model building\n",
    "from sklearn.ensemble import RandomForestClassifier\n",
    "rf=RandomForestClassifier(n_estimators=100,max_depth=10,random_state=0)\n",
    "rf.fit(x_train,y_train)"
   ]
  },
  {
   "cell_type": "code",
   "execution_count": 9,
   "id": "480db360",
   "metadata": {},
   "outputs": [
    {
     "name": "stdout",
     "output_type": "stream",
     "text": [
      "[0 0 1 0 0 0 0 0 0]\n"
     ]
    }
   ],
   "source": [
    "#predict the model on test_set\n",
    "rf_pred=rf.predict(x_test)\n",
    "print(rf_pred[:9])"
   ]
  },
  {
   "cell_type": "code",
   "execution_count": 11,
   "id": "a20191b3",
   "metadata": {},
   "outputs": [
    {
     "name": "stdout",
     "output_type": "stream",
     "text": [
      "0.9208333333333333\n",
      "              precision    recall  f1-score   support\n",
      "\n",
      "           0       0.95      0.96      0.96       215\n",
      "           1       0.62      0.60      0.61        25\n",
      "\n",
      "    accuracy                           0.92       240\n",
      "   macro avg       0.79      0.78      0.78       240\n",
      "weighted avg       0.92      0.92      0.92       240\n",
      "\n",
      "[[206   9]\n",
      " [ 10  15]]\n"
     ]
    }
   ],
   "source": [
    "#get the performance of the model on test data\n",
    "from sklearn.metrics import accuracy_score,classification_report,confusion_matrix\n",
    "print(accuracy_score(y_test,rf_pred))\n",
    "print(classification_report(y_test,rf_pred))\n",
    "print(confusion_matrix(y_test,rf_pred))"
   ]
  },
  {
   "cell_type": "code",
   "execution_count": 12,
   "id": "8c57f506",
   "metadata": {},
   "outputs": [],
   "source": [
    "#dump the model\n",
    "import pickle\n",
    "filename='random_model.pickle'\n",
    "pickle.dump(rf,open(filename, 'wb'))"
   ]
  },
  {
   "cell_type": "code",
   "execution_count": null,
   "id": "1eb57c1f",
   "metadata": {},
   "outputs": [],
   "source": []
  }
 ],
 "metadata": {
  "kernelspec": {
   "display_name": "Python 3 (ipykernel)",
   "language": "python",
   "name": "python3"
  },
  "language_info": {
   "codemirror_mode": {
    "name": "ipython",
    "version": 3
   },
   "file_extension": ".py",
   "mimetype": "text/x-python",
   "name": "python",
   "nbconvert_exporter": "python",
   "pygments_lexer": "ipython3",
   "version": "3.7.0"
  }
 },
 "nbformat": 4,
 "nbformat_minor": 5
}
